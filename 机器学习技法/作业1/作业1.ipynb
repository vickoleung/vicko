{
 "cells": [
  {
   "cell_type": "code",
   "execution_count": 18,
   "metadata": {},
   "outputs": [
    {
     "data": {
      "text/plain": [
       "SVC(C=1.0, break_ties=False, cache_size=200, class_weight=None, coef0=1,\n",
       "    decision_function_shape='ovr', degree=2, gamma=1, kernel='poly',\n",
       "    max_iter=-1, probability=False, random_state=None, shrinking=True,\n",
       "    tol=0.001, verbose=False)"
      ]
     },
     "execution_count": 18,
     "metadata": {},
     "output_type": "execute_result"
    }
   ],
   "source": [
    "import numpy as np\n",
    "from sklearn import svm\n",
    "from sklearn.linear_model import LinearRegression\n",
    "x = np.array([[1,0],[0,1],[0,-1],[-1,0],[0,2],[0,-2],[-2,0]])\n",
    "z = np.array([[1,-2],[4,-5],[4,-1],[5,-2],[7,-7],[7,1],[7,1]])\n",
    "y = np.array([-1,-1,-1,1,1,1,1])\n",
    "clf = svm.SVC(kernel = 'poly', degree = 2, gamma = 1, coef0 = 1)\n",
    "clf.fit(x,y)\n"
   ]
  },
  {
   "cell_type": "code",
   "execution_count": 33,
   "metadata": {},
   "outputs": [
    {
     "name": "stdout",
     "output_type": "stream",
     "text": [
      "2.8142453490044304\n",
      "intercept:  [1.66633088]\n",
      "alpha*y : [[-0.59647182 -0.81065085  0.8887034   0.20566488  0.31275439]]\n"
     ]
    }
   ],
   "source": [
    "clf.support_vectors_\n",
    "print(np.sum(abs(clf.dual_coef_)))\n",
    "print('intercept: ',clf._intercept_)\n",
    "print('alpha*y :',clf.dual_coef_)"
   ]
  },
  {
   "cell_type": "code",
   "execution_count": 2,
   "metadata": {},
   "outputs": [
    {
     "data": {
      "text/plain": [
       "\"import numpy as np\\nfrom cvxopt import matrix, solvers \\n\\ndef kernel(x1,x2):\\n    k = (1 + np.dot(x1.T,x2))**2\\n    return k\\n\\ndef dualsvm(x,y):\\n    N = len(x)\\n    Q = np.zeros((N,N))\\n    for i in range(N):\\n        for j in range(N):\\n            Q[i][j] = y[i]*y[j]*kernel(x[i],x[j])\\n    Q = matrix(Q, tc = 'd')\\n    p = matrix(np.array([-1]*N), tc = 'd')\\n    c = matrix(np.array([0]*(N+2)), tc = 'd')\\n    A = np.zeros((N+2,N))\\n    for j in range(N):\\n        A[0][j] = -y[j]\\n        A[1][j] = y[j]\\n        A[j+2][j] = -1\\n    A = matrix(A, tc = 'd')\\n    sol = solvers.qp(Q, p, A, c)\\n    alpha = []\\n    for i in range(N):\\n        alpha.append(sol['x'][i])\\n    alpha = np.asarray(alpha)\\n    return alpha\\n\\nx = np.array([[1,0],\\n              [0,1],\\n              [0,-1],\\n              [-1,0],\\n              [0,2],\\n              [0,-2],\\n              [-2,0]])\\ny = np.array([-1,-1,-1,1,1,1,1])\\nalpha = dualsvm(x,y)\\nprint(alpha)\\n\\nb = y[1]\\nfor i in range(N):\\n    b -= y[i]*alpha[i]*kernel(x[i], y[i])\\n\""
      ]
     },
     "execution_count": 2,
     "metadata": {},
     "output_type": "execute_result"
    }
   ],
   "source": [
    "import numpy as np\n",
    "from cvxopt import matrix, solvers \n",
    "\n",
    "def kernel(x1,x2):\n",
    "    k = (1 + np.dot(x1.T,x2))**2\n",
    "    return k\n",
    "\n",
    "def dualsvm(x,y):\n",
    "    N = len(x)\n",
    "    Q = np.zeros((N,N))\n",
    "    for i in range(N):\n",
    "        for j in range(N):\n",
    "            Q[i][j] = y[i]*y[j]*kernel(x[i],x[j])\n",
    "    Q = matrix(Q, tc = 'd')\n",
    "    p = matrix(np.array([-1]*N), tc = 'd')\n",
    "    c = matrix(np.array([0]*(N+2)), tc = 'd')\n",
    "    A = np.zeros((N+2,N))\n",
    "    for j in range(N):\n",
    "        A[0][j] = -y[j]\n",
    "        A[1][j] = y[j]\n",
    "        A[j+2][j] = -1\n",
    "    A = matrix(A, tc = 'd')\n",
    "    sol = solvers.qp(Q, p, A, c)\n",
    "    alpha = []\n",
    "    for i in range(N):\n",
    "        alpha.append(sol['x'][i])\n",
    "    alpha = np.asarray(alpha)\n",
    "    return alpha\n",
    "\n",
    "x = np.array([[1,0],\n",
    "              [0,1],\n",
    "              [0,-1],\n",
    "              [-1,0],\n",
    "              [0,2],\n",
    "              [0,-2],\n",
    "              [-2,0]])\n",
    "y = np.array([-1,-1,-1,1,1,1,1])\n",
    "alpha = dualsvm(x,y)\n",
    "print(alpha)\n",
    "\n",
    "b = y[1]\n",
    "for i in range(N):\n",
    "    b -= y[i]*alpha[i]*kernel(x[i], y[i])"
   ]
  },
  {
   "cell_type": "code",
   "execution_count": 32,
   "metadata": {},
   "outputs": [],
   "source": [
    "import numpy as np\n",
    "from sklearn.svm import SVC\n",
    "\n",
    "def getdata():\n",
    "    train = np.genfromtxt('train1.txt')\n",
    "    test = np.genfromtxt('test1.txt')\n",
    "    m,n = train.shape\n",
    "    m1,n1 = test.shape\n",
    "    x = np.c_[np.ones((m,1)), train[:,1:n]]\n",
    "    y = train[:,0]\n",
    "    testx = np.c_[np.ones((m1,1)), test[:,1:n]]\n",
    "    testy = test[:,0]\n",
    "    \n",
    "    return x, y, testx, testy\n",
    "\n",
    "def errorRate(yhat, y):\n",
    "    N = len(y)\n",
    "    errorSum = np.sum(yhat != y)\n",
    "    return errorSum / N\n",
    "\n",
    "def preprocess(y):\n",
    "    y[np.where(y != 0)] = -1\n",
    "    y[np.where(y == 0)] = 1\n",
    "    return y\n",
    "\n",
    "def p15():\n",
    "    x, y, testx, testy = getdata()\n",
    "    ytemp = y.copy()\n",
    "    ytemp = preprocess(ytemp)\n",
    "    clf = SVC(C = 0.01, kernel = 'linear').fit(x, ytemp)\n",
    "    w_norm = np.linalg.norm(clf.coef_)\n",
    "    return w_norm\n",
    "\n",
    "def p1617():\n",
    "    x, y, testx, testy = getdata()\n",
    "    lis = [0, 2, 4, 6, 8]\n",
    "    for i in lis:\n",
    "        ytemp = y.copy()\n",
    "        ytemp[np.where(ytemp != i)] = -1\n",
    "        ytemp[np.where(ytemp == i)] = 1\n",
    "        clf = SVC(C = 0.01, kernel = 'poly', degree = 2, gamma = 1, coef0 = 1).fit(x, ytemp)\n",
    "        ypred = clf.predict(x)\n",
    "        e_rate = errorRate(ypred, ytemp)\n",
    "        alpha_sum = np.sum(abs(clf.dual_coef_))\n",
    "        print('{0} versus non {0}, Ein = {1}, sum of alpha = {2}'.format(i, e_rate, alpha_sum))\n",
    "\n",
    "def p20():\n",
    "    "
   ]
  },
  {
   "cell_type": "code",
   "execution_count": 57,
   "metadata": {},
   "outputs": [
    {
     "data": {
      "text/plain": [
       "array([16.274, 12.679, 16.422, 16.573, 16.41 ])"
      ]
     },
     "execution_count": 57,
     "metadata": {},
     "output_type": "execute_result"
    }
   ],
   "source": [
    "x, y, testx, testy = getdata()\n",
    "ytemp = y.copy()\n",
    "g_list = [1, 10, 1e2, 1e3, 1e4]\n",
    "ytemp = preprocess(ytemp)\n",
    "row, col = x.shape\n",
    "Eval = np.zeros((len(g_list),))\n",
    "for i in range(5):\n",
    "    for j in range(100):\n",
    "        pos = np.random.permutation(row)\n",
    "        val_x = x[pos[:1000],:]\n",
    "        val_y = ytemp[pos[:1000]]\n",
    "        train_x = x[pos[:1000],:]\n",
    "        train_y = ytemp[pos[:1000]]\n",
    "        clf = SVC(C = 0.1, kernel = 'rbf', gamma = g_list[i]).fit(train_x, train_y)\n",
    "        yhat = clf.predict(val_x)\n",
    "        error = errorRate(yhat, val_y)\n",
    "        Eval[i] += error\n",
    "\n",
    "        "
   ]
  },
  {
   "cell_type": "code",
   "execution_count": 58,
   "metadata": {},
   "outputs": [
    {
     "data": {
      "text/plain": [
       "array([0.16274, 0.12679, 0.16422, 0.16573, 0.1641 ])"
      ]
     },
     "execution_count": 58,
     "metadata": {},
     "output_type": "execute_result"
    }
   ],
   "source": [
    "Eval / 100"
   ]
  },
  {
   "cell_type": "code",
   "execution_count": 52,
   "metadata": {},
   "outputs": [
    {
     "data": {
      "text/plain": [
       "1"
      ]
     },
     "execution_count": 52,
     "metadata": {},
     "output_type": "execute_result"
    }
   ],
   "source": [
    "g_list = [1, 10, 1e2, 1e3, 1e4]\n",
    "g_list[0]"
   ]
  },
  {
   "cell_type": "code",
   "execution_count": null,
   "metadata": {},
   "outputs": [],
   "source": []
  }
 ],
 "metadata": {
  "kernelspec": {
   "display_name": "Python 3",
   "language": "python",
   "name": "python3"
  },
  "language_info": {
   "codemirror_mode": {
    "name": "ipython",
    "version": 3
   },
   "file_extension": ".py",
   "mimetype": "text/x-python",
   "name": "python",
   "nbconvert_exporter": "python",
   "pygments_lexer": "ipython3",
   "version": "3.7.6"
  }
 },
 "nbformat": 4,
 "nbformat_minor": 4
}
